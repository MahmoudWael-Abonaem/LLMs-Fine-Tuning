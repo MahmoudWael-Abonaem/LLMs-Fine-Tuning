{
  "cells": [
    {
      "cell_type": "markdown",
      "metadata": {},
      "source": [
        "### Accessing Google Cloud"
      ]
    },
    {
      "cell_type": "code",
      "execution_count": 2,
      "metadata": {
        "colab": {
          "base_uri": "https://localhost:8080/"
        },
        "id": "agItLnjmKGAZ",
        "outputId": "eb6384ce-0b7a-4423-99b5-36d10576e601"
      },
      "outputs": [
        {
          "name": "stdout",
          "output_type": "stream",
          "text": [
            "You are authorizing client libraries without access to a web browser. Please run the following command on a machine with a web browser and copy its output back here. Make sure the installed gcloud version is 372.0.0 or newer.\n",
            "\n",
            "gcloud auth application-default login --remote-bootstrap=\"https://accounts.google.com/o/oauth2/auth?response_type=code&client_id=531538982827-1g0erebqrj32s3htfqqrdoev3mpltdo7.apps.googleusercontent.com&scope=https%3A%2F%2Fwww.googleapis.com%2Fauth%2Fcloud-platform+https%3A%2F%2Fwww.googleapis.com%2Fauth%2Fgenerative-language.tuning&state=wAQJ7JFeOAsjUYNCXl2d3Plas6L1FP&access_type=offline&code_challenge=KNINHRS4tu-P5JfySCd2qJwc0_HYg4M3qf3KWs_2FpU&code_challenge_method=S256&token_usage=remote\"\n",
            "\n",
            "\n",
            "Enter the output of the above command: https://localhost:8085/?state=wAQJ7JFeOAsjUYNCXl2d3Plas6L1FP&code=4/0ATx3LY52u_934nmrSWwVkRl3QbJU1P74dn2iL6ZY3FdQmUEeqy2E1M7r4NCig-zkawLtlw&scope=https://www.googleapis.com/auth/cloud-platform%20https://www.googleapis.com/auth/generative-language.tuning\n",
            "\n",
            "Credentials saved to file: [/content/.config/application_default_credentials.json]\n",
            "\n",
            "These credentials will be used by any library that requests Application Default Credentials (ADC).\n"
          ]
        }
      ],
      "source": [
        "import os\n",
        "if 'COLAB_RELEASE_TAG' in os.environ:\n",
        "  from google.colab import userdata\n",
        "  import pathlib\n",
        "  pathlib.Path('client_secret.json').write_text(userdata.get('CLIENT_SECRET'))\n",
        "\n",
        "  # Use `--no-browser` in colab\n",
        "  ! gcloud auth application-default login --no-browser --client-id-file client_secret.json --scopes='https://www.googleapis.com/auth/cloud-platform,https://www.googleapis.com/auth/generative-language.tuning'\n",
        "else:\n",
        "  ! gcloud auth application-default login --client-id-file client_secret.json --scopes='https://www.googleapis.com/auth/cloud-platform,https://www.googleapis.com/auth/genhttps://localhost:8085/?state=mcQSxZ7fEpDCEmGmuvbce5AC3WDKEl&code=4/0ATx3LY4IFrpxH_9Trb0wc8OD0OHg9bplnsBiTwKbVQ78BFLubZAqnCOz4jHBkeHsucXXBA&scope=https://www.googleapis.com/auth/cloud-platform%20https://www.googleapis.com/auth/generative-language.tuningerative-language.tuning'"
      ]
    },
    {
      "cell_type": "markdown",
      "metadata": {},
      "source": [
        "### Imports"
      ]
    },
    {
      "cell_type": "code",
      "execution_count": 3,
      "metadata": {
        "id": "uOklL_i0KYlD"
      },
      "outputs": [],
      "source": [
        "import time\n",
        "import json\n",
        "import pandas as pd\n",
        "import seaborn as sns\n",
        "import google.generativeai as genai\n",
        "from collections import defaultdict"
      ]
    },
    {
      "cell_type": "markdown",
      "metadata": {},
      "source": [
        "### Defining the Loading Function"
      ]
    },
    {
      "cell_type": "code",
      "execution_count": 4,
      "metadata": {
        "id": "ktvN46nVKaMM"
      },
      "outputs": [],
      "source": [
        "# Function to load JSNOL files\n",
        "def load_jsnol(file_path):\n",
        "    data = []\n",
        "    with open(file_path, 'r') as f:\n",
        "        for line in f:\n",
        "            data.append(json.loads(line.strip()))\n",
        "    return data\n",
        "\n",
        "# Load the subtitles file\n",
        "subtitles_data = load_jsnol(r'/content/tvqa_preprocessed_subtitles.jsonl')\n",
        "\n",
        "# Load the questions and answers file\n",
        "qa_data = load_jsnol(r'/content/tvqa_train.jsonl')"
      ]
    },
    {
      "cell_type": "markdown",
      "metadata": {},
      "source": [
        "### Combining the Questions and Answers of the TVQA Dataset with the Subtitles of the TVR Dataset"
      ]
    },
    {
      "cell_type": "code",
      "execution_count": 5,
      "metadata": {
        "colab": {
          "base_uri": "https://localhost:8080/"
        },
        "id": "BIfQ-mpOKcpE",
        "outputId": "049a3bfe-9ff0-4ad4-c850-7d82938b20ef"
      },
      "outputs": [
        {
          "name": "stdout",
          "output_type": "stream",
          "text": [
            "Created 4217 combined context-QA pairs for 'Castle'.\n",
            "Created 4807 combined context-QA pairs for 'Friends'.\n"
          ]
        }
      ],
      "source": [
        "def filter_and_combine_data(subtitles_data, qa_data, show_name_prefix):\n",
        "    # Create a dictionary to collect all subtitles by vid_name\n",
        "    subtitles_dict = defaultdict(list)\n",
        "    for item in subtitles_data:\n",
        "        if item['vid_name'].startswith(show_name_prefix):\n",
        "            subtitles_dict[item['vid_name']].extend(item['sub'])\n",
        "\n",
        "    # Create combined context-QA pairs\n",
        "    combined_data = defaultdict(lambda: {'context': '', 'qas': []})\n",
        "    for qa in qa_data:\n",
        "        if qa['vid_name'].startswith(show_name_prefix):\n",
        "            vid_name = qa['vid_name']\n",
        "            if vid_name in subtitles_dict:\n",
        "                # Combine subtitles into a single context string\n",
        "                context = \" \".join([sub['text'] for sub in subtitles_dict[vid_name]])\n",
        "                question = qa['q']\n",
        "                answer = qa[f'a{qa[\"answer_idx\"]}']\n",
        "\n",
        "                combined_data[vid_name]['context'] = context\n",
        "                combined_data[vid_name]['qas'].append({'question': question, 'answer': answer})\n",
        "\n",
        "    return combined_data\n",
        "\n",
        "# Filter and combine data for \"Castle\"\n",
        "castle_data = filter_and_combine_data(subtitles_data, qa_data, 'castle')\n",
        "\n",
        "# Filter and combine data for \"Friends\"\n",
        "friends_data = filter_and_combine_data(subtitles_data, qa_data, 'friends')\n",
        "\n",
        "# Convert to list of dictionaries\n",
        "combined_castle_data = [{'vid_name': vid_name, **data} for vid_name, data in castle_data.items()]\n",
        "combined_friends_data = [{'vid_name': vid_name, **data} for vid_name, data in friends_data.items()]\n",
        "\n",
        "# Verify the number of combined context-QA pairs created\n",
        "print(f\"Created {len(combined_castle_data)} combined context-QA pairs for 'Castle'.\")\n",
        "print(f\"Created {len(combined_friends_data)} combined context-QA pairs for 'Friends'.\")"
      ]
    },
    {
      "cell_type": "markdown",
      "metadata": {},
      "source": [
        "### Pre-Processing the Data"
      ]
    },
    {
      "cell_type": "code",
      "execution_count": 12,
      "metadata": {
        "id": "1TI3GsGXK0ft"
      },
      "outputs": [],
      "source": [
        "# Prepare data for fine-tuning\n",
        "training_data = []\n",
        "\n",
        "combined_data = combined_castle_data + combined_friends_data\n",
        "\n",
        "for item in combined_data:\n",
        "    context = item['context']\n",
        "    questions = \" \".join([f\"Q: {qa['question']}\" for qa in item['qas']])\n",
        "    answers = \" \".join([f\"A: {qa['answer']}\" for qa in item['qas']])\n",
        "    training_data.append({\n",
        "        'text_input': f\"Context: {context} {questions}\",\n",
        "        'output': answers\n",
        "    })"
      ]
    },
    {
      "cell_type": "markdown",
      "metadata": {},
      "source": [
        "### Defining the Model"
      ]
    },
    {
      "cell_type": "code",
      "execution_count": 14,
      "metadata": {
        "id": "3Bpx0VGBK2O8"
      },
      "outputs": [],
      "source": [
        "base_model = [\n",
        "    m for m in genai.list_models()\n",
        "    if \"createTunedModel\" in m.supported_generation_methods][0]\n",
        "\n",
        "# Generate a unique name for your tuned model\n",
        "name = 'tvqa-castle-friends-gemini-6'"
      ]
    },
    {
      "cell_type": "markdown",
      "metadata": {},
      "source": [
        "### Fine Tuning the Model"
      ]
    },
    {
      "cell_type": "code",
      "execution_count": 15,
      "metadata": {
        "colab": {
          "base_uri": "https://localhost:8080/",
          "height": 430,
          "referenced_widgets": [
            "7832fd71448647ceaaaf0acf136cbb32",
            "12f2d29062f34b8abcab644bef025a6b",
            "56e81ef7ed6244aa84132d56ad5e45ee",
            "6c69879830354e85ad059e0deef2d6a6",
            "1c1cd1dd962d4cd8aa947938ae695f31",
            "cd303e981f9046758f705facd7a56c07",
            "0256442c658f4c81801a458234754fd4",
            "6d5284bd122449f49cca14d264deb762",
            "9e64e3ea9ce843298f790d4addc23bf4",
            "9bc6e7522c88463db35fd38a02429689",
            "70d9f33eef3443069d0b293c6909867a"
          ]
        },
        "id": "fCQv_9vqK5aV",
        "outputId": "83ce4a32-ad30-4fed-f43a-a8791f035da9"
      },
      "outputs": [
        {
          "name": "stdout",
          "output_type": "stream",
          "text": [
            "TunedModel(name='tunedModels/tvqa-castle-friends-gemini-6',\n",
            "           source_model='models/gemini-1.0-pro-001',\n",
            "           base_model='models/gemini-1.0-pro-001',\n",
            "           display_name='',\n",
            "           description='',\n",
            "           temperature=0.9,\n",
            "           top_p=1.0,\n",
            "           top_k=0,\n",
            "           state=<State.CREATING: 1>,\n",
            "           create_time=datetime.datetime(2024, 7, 1, 4, 41, 0, 355414, tzinfo=datetime.timezone.utc),\n",
            "           update_time=datetime.datetime(2024, 7, 1, 4, 41, 0, 355414, tzinfo=datetime.timezone.utc),\n",
            "           tuning_task=TuningTask(start_time=None,\n",
            "                                  complete_time=None,\n",
            "                                  snapshots=[],\n",
            "                                  hyperparameters=Hyperparameters(epoch_count=15,\n",
            "                                                                  batch_size=4,\n",
            "                                                                  learning_rate=0.001)))\n",
            "State.CREATING\n",
            "total_steps: 33840\n",
            "tuned_model: \"tunedModels/tvqa-castle-friends-gemini-6\"\n",
            "\n"
          ]
        },
        {
          "data": {
            "application/vnd.jupyter.widget-view+json": {
              "model_id": "7832fd71448647ceaaaf0acf136cbb32",
              "version_major": 2,
              "version_minor": 0
            },
            "text/plain": [
              "  0%|          | 0/33840 [00:00<?, ?it/s]"
            ]
          },
          "metadata": {},
          "output_type": "display_data"
        }
      ],
      "source": [
        "# Fine-tune the model\n",
        "operation = genai.create_tuned_model(\n",
        "    source_model=base_model.name,\n",
        "    training_data=training_data,\n",
        "    id=name,\n",
        "    epoch_count=15,\n",
        "    batch_size=4,\n",
        "    learning_rate=0.001\n",
        ")\n",
        "\n",
        "# Check the model creation status\n",
        "model = genai.get_tuned_model(f'tunedModels/{name}')\n",
        "print(model)\n",
        "\n",
        "# Check the initial state\n",
        "print(model.state)\n",
        "\n",
        "# Check the tuning progress using operation.metadata\n",
        "print(operation.metadata)\n",
        "\n",
        "# Wait for the tuning to finish\n",
        "for status in operation.wait_bar():\n",
        "    time.sleep(30)"
      ]
    },
    {
      "cell_type": "markdown",
      "metadata": {},
      "source": [
        "### Plotting Fine Tuning Results"
      ]
    },
    {
      "cell_type": "code",
      "execution_count": 16,
      "metadata": {
        "colab": {
          "base_uri": "https://localhost:8080/",
          "height": 490
        },
        "id": "VIurVDeTK9CV",
        "outputId": "b35610ab-be56-4bff-c399-8ff736b7eedc"
      },
      "outputs": [
        {
          "data": {
            "text/plain": [
              "[Text(0.5, 1.0, 'Training Loss Curve')]"
            ]
          },
          "execution_count": 16,
          "metadata": {},
          "output_type": "execute_result"
        },
        {
          "data": {
            "image/png": "[encoded data removed]",
            "text/plain": [
              "<Figure size 640x480 with 1 Axes>"
            ]
          },
          "metadata": {},
          "output_type": "display_data"
        }
      ],
      "source": [
        "# Get the final model after tuning is complete\n",
        "model = operation.result()\n",
        "\n",
        "# Extract tuning snapshots for analysis\n",
        "snapshots = pd.DataFrame(model.tuning_task.snapshots)\n",
        "\n",
        "# Plot the loss curve\n",
        "sns.lineplot(data=snapshots, x='epoch', y='mean_loss').set(title='Training Loss Curve')"
      ]
    },
    {
      "cell_type": "markdown",
      "metadata": {},
      "source": [
        "### Testing the Model after Fine Tuning Using Prompt Engineering"
      ]
    },
    {
      "cell_type": "code",
      "execution_count": null,
      "metadata": {},
      "outputs": [],
      "source": [
        "def ask_model_question(question):\n",
        "    model = genai.GenerativeModel(model_name='tunedModels/tvqa-castle-friends-gemini-6')\n",
        "\n",
        "    prompt = (\n",
        "            f\"You are an expert assistant. I fine tuned you on the subtitles of two TV shows named 'Castle' and 'Friends'. Your task is to answer the questions based solely on the content you are fine tuned on.\\n\\n\"\n",
        "            f\"If you cannot find the answer in the data, you must say 'I don't have an answer to your question.\\n\\n\"\n",
        "            f\"Question: {question}\\n\\n\"\n",
        "    )\n",
        "    result = model.generate_content(prompt)\n",
        "    return result.text"
      ]
    }
  ],
  "metadata": {
    "colab": {
      "provenance": []
    },
    "kernelspec": {
      "display_name": "Python 3",
      "name": "python3"
    },
    "language_info": {
      "name": "python"
    },
    "widgets": {
      "application/vnd.jupyter.widget-state+json": {
        "0256442c658f4c81801a458234754fd4": {
          "model_module": "@jupyter-widgets/controls",
          "model_module_version": "1.5.0",
          "model_name": "DescriptionStyleModel",
          "state": {
            "_model_module": "@jupyter-widgets/controls",
            "_model_module_version": "1.5.0",
            "_model_name": "DescriptionStyleModel",
            "_view_count": null,
            "_view_module": "@jupyter-widgets/base",
            "_view_module_version": "1.2.0",
            "_view_name": "StyleView",
            "description_width": ""
          }
        },
        "12f2d29062f34b8abcab644bef025a6b": {
          "model_module": "@jupyter-widgets/controls",
          "model_module_version": "1.5.0",
          "model_name": "HTMLModel",
          "state": {
            "_dom_classes": [],
            "_model_module": "@jupyter-widgets/controls",
            "_model_module_version": "1.5.0",
            "_model_name": "HTMLModel",
            "_view_count": null,
            "_view_module": "@jupyter-widgets/controls",
            "_view_module_version": "1.5.0",
            "_view_name": "HTMLView",
            "description": "",
            "description_tooltip": null,
            "layout": "IPY_MODEL_cd303e981f9046758f705facd7a56c07",
            "placeholder": "​",
            "style": "IPY_MODEL_0256442c658f4c81801a458234754fd4",
            "value": "100%"
          }
        },
        "1c1cd1dd962d4cd8aa947938ae695f31": {
          "model_module": "@jupyter-widgets/base",
          "model_module_version": "1.2.0",
          "model_name": "LayoutModel",
          "state": {
            "_model_module": "@jupyter-widgets/base",
            "_model_module_version": "1.2.0",
            "_model_name": "LayoutModel",
            "_view_count": null,
            "_view_module": "@jupyter-widgets/base",
            "_view_module_version": "1.2.0",
            "_view_name": "LayoutView",
            "align_content": null,
            "align_items": null,
            "align_self": null,
            "border": null,
            "bottom": null,
            "display": null,
            "flex": null,
            "flex_flow": null,
            "grid_area": null,
            "grid_auto_columns": null,
            "grid_auto_flow": null,
            "grid_auto_rows": null,
            "grid_column": null,
            "grid_gap": null,
            "grid_row": null,
            "grid_template_areas": null,
            "grid_template_columns": null,
            "grid_template_rows": null,
            "height": null,
            "justify_content": null,
            "justify_items": null,
            "left": null,
            "margin": null,
            "max_height": null,
            "max_width": null,
            "min_height": null,
            "min_width": null,
            "object_fit": null,
            "object_position": null,
            "order": null,
            "overflow": null,
            "overflow_x": null,
            "overflow_y": null,
            "padding": null,
            "right": null,
            "top": null,
            "visibility": null,
            "width": null
          }
        },
        "56e81ef7ed6244aa84132d56ad5e45ee": {
          "model_module": "@jupyter-widgets/controls",
          "model_module_version": "1.5.0",
          "model_name": "FloatProgressModel",
          "state": {
            "_dom_classes": [],
            "_model_module": "@jupyter-widgets/controls",
            "_model_module_version": "1.5.0",
            "_model_name": "FloatProgressModel",
            "_view_count": null,
            "_view_module": "@jupyter-widgets/controls",
            "_view_module_version": "1.5.0",
            "_view_name": "ProgressView",
            "bar_style": "success",
            "description": "",
            "description_tooltip": null,
            "layout": "IPY_MODEL_6d5284bd122449f49cca14d264deb762",
            "max": 33840,
            "min": 0,
            "orientation": "horizontal",
            "style": "IPY_MODEL_9e64e3ea9ce843298f790d4addc23bf4",
            "value": 33840
          }
        },
        "6c69879830354e85ad059e0deef2d6a6": {
          "model_module": "@jupyter-widgets/controls",
          "model_module_version": "1.5.0",
          "model_name": "HTMLModel",
          "state": {
            "_dom_classes": [],
            "_model_module": "@jupyter-widgets/controls",
            "_model_module_version": "1.5.0",
            "_model_name": "HTMLModel",
            "_view_count": null,
            "_view_module": "@jupyter-widgets/controls",
            "_view_module_version": "1.5.0",
            "_view_name": "HTMLView",
            "description": "",
            "description_tooltip": null,
            "layout": "IPY_MODEL_9bc6e7522c88463db35fd38a02429689",
            "placeholder": "​",
            "style": "IPY_MODEL_70d9f33eef3443069d0b293c6909867a",
            "value": " 33840/33840 [8:34:59&lt;00:00,  1.14it/s]"
          }
        },
        "6d5284bd122449f49cca14d264deb762": {
          "model_module": "@jupyter-widgets/base",
          "model_module_version": "1.2.0",
          "model_name": "LayoutModel",
          "state": {
            "_model_module": "@jupyter-widgets/base",
            "_model_module_version": "1.2.0",
            "_model_name": "LayoutModel",
            "_view_count": null,
            "_view_module": "@jupyter-widgets/base",
            "_view_module_version": "1.2.0",
            "_view_name": "LayoutView",
            "align_content": null,
            "align_items": null,
            "align_self": null,
            "border": null,
            "bottom": null,
            "display": null,
            "flex": null,
            "flex_flow": null,
            "grid_area": null,
            "grid_auto_columns": null,
            "grid_auto_flow": null,
            "grid_auto_rows": null,
            "grid_column": null,
            "grid_gap": null,
            "grid_row": null,
            "grid_template_areas": null,
            "grid_template_columns": null,
            "grid_template_rows": null,
            "height": null,
            "justify_content": null,
            "justify_items": null,
            "left": null,
            "margin": null,
            "max_height": null,
            "max_width": null,
            "min_height": null,
            "min_width": null,
            "object_fit": null,
            "object_position": null,
            "order": null,
            "overflow": null,
            "overflow_x": null,
            "overflow_y": null,
            "padding": null,
            "right": null,
            "top": null,
            "visibility": null,
            "width": null
          }
        },
        "70d9f33eef3443069d0b293c6909867a": {
          "model_module": "@jupyter-widgets/controls",
          "model_module_version": "1.5.0",
          "model_name": "DescriptionStyleModel",
          "state": {
            "_model_module": "@jupyter-widgets/controls",
            "_model_module_version": "1.5.0",
            "_model_name": "DescriptionStyleModel",
            "_view_count": null,
            "_view_module": "@jupyter-widgets/base",
            "_view_module_version": "1.2.0",
            "_view_name": "StyleView",
            "description_width": ""
          }
        },
        "7832fd71448647ceaaaf0acf136cbb32": {
          "model_module": "@jupyter-widgets/controls",
          "model_module_version": "1.5.0",
          "model_name": "HBoxModel",
          "state": {
            "_dom_classes": [],
            "_model_module": "@jupyter-widgets/controls",
            "_model_module_version": "1.5.0",
            "_model_name": "HBoxModel",
            "_view_count": null,
            "_view_module": "@jupyter-widgets/controls",
            "_view_module_version": "1.5.0",
            "_view_name": "HBoxView",
            "box_style": "",
            "children": [
              "IPY_MODEL_12f2d29062f34b8abcab644bef025a6b",
              "IPY_MODEL_56e81ef7ed6244aa84132d56ad5e45ee",
              "IPY_MODEL_6c69879830354e85ad059e0deef2d6a6"
            ],
            "layout": "IPY_MODEL_1c1cd1dd962d4cd8aa947938ae695f31"
          }
        },
        "9bc6e7522c88463db35fd38a02429689": {
          "model_module": "@jupyter-widgets/base",
          "model_module_version": "1.2.0",
          "model_name": "LayoutModel",
          "state": {
            "_model_module": "@jupyter-widgets/base",
            "_model_module_version": "1.2.0",
            "_model_name": "LayoutModel",
            "_view_count": null,
            "_view_module": "@jupyter-widgets/base",
            "_view_module_version": "1.2.0",
            "_view_name": "LayoutView",
            "align_content": null,
            "align_items": null,
            "align_self": null,
            "border": null,
            "bottom": null,
            "display": null,
            "flex": null,
            "flex_flow": null,
            "grid_area": null,
            "grid_auto_columns": null,
            "grid_auto_flow": null,
            "grid_auto_rows": null,
            "grid_column": null,
            "grid_gap": null,
            "grid_row": null,
            "grid_template_areas": null,
            "grid_template_columns": null,
            "grid_template_rows": null,
            "height": null,
            "justify_content": null,
            "justify_items": null,
            "left": null,
            "margin": null,
            "max_height": null,
            "max_width": null,
            "min_height": null,
            "min_width": null,
            "object_fit": null,
            "object_position": null,
            "order": null,
            "overflow": null,
            "overflow_x": null,
            "overflow_y": null,
            "padding": null,
            "right": null,
            "top": null,
            "visibility": null,
            "width": null
          }
        },
        "9e64e3ea9ce843298f790d4addc23bf4": {
          "model_module": "@jupyter-widgets/controls",
          "model_module_version": "1.5.0",
          "model_name": "ProgressStyleModel",
          "state": {
            "_model_module": "@jupyter-widgets/controls",
            "_model_module_version": "1.5.0",
            "_model_name": "ProgressStyleModel",
            "_view_count": null,
            "_view_module": "@jupyter-widgets/base",
            "_view_module_version": "1.2.0",
            "_view_name": "StyleView",
            "bar_color": null,
            "description_width": ""
          }
        },
        "cd303e981f9046758f705facd7a56c07": {
          "model_module": "@jupyter-widgets/base",
          "model_module_version": "1.2.0",
          "model_name": "LayoutModel",
          "state": {
            "_model_module": "@jupyter-widgets/base",
            "_model_module_version": "1.2.0",
            "_model_name": "LayoutModel",
            "_view_count": null,
            "_view_module": "@jupyter-widgets/base",
            "_view_module_version": "1.2.0",
            "_view_name": "LayoutView",
            "align_content": null,
            "align_items": null,
            "align_self": null,
            "border": null,
            "bottom": null,
            "display": null,
            "flex": null,
            "flex_flow": null,
            "grid_area": null,
            "grid_auto_columns": null,
            "grid_auto_flow": null,
            "grid_auto_rows": null,
            "grid_column": null,
            "grid_gap": null,
            "grid_row": null,
            "grid_template_areas": null,
            "grid_template_columns": null,
            "grid_template_rows": null,
            "height": null,
            "justify_content": null,
            "justify_items": null,
            "left": null,
            "margin": null,
            "max_height": null,
            "max_width": null,
            "min_height": null,
            "min_width": null,
            "object_fit": null,
            "object_position": null,
            "order": null,
            "overflow": null,
            "overflow_x": null,
            "overflow_y": null,
            "padding": null,
            "right": null,
            "top": null,
            "visibility": null,
            "width": null
          }
        }
      }
    }
  },
  "nbformat": 4,
  "nbformat_minor": 0
}
